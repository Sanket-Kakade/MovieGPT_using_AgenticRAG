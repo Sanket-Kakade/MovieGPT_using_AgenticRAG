{
  "nbformat": 4,
  "nbformat_minor": 0,
  "metadata": {
    "colab": {
      "provenance": [],
      "include_colab_link": true
    },
    "kernelspec": {
      "name": "python3",
      "display_name": "Python 3"
    },
    "language_info": {
      "name": "python"
    }
  },
  "cells": [
    {
      "cell_type": "markdown",
      "metadata": {
        "id": "view-in-github",
        "colab_type": "text"
      },
      "source": [
        "<a href=\"https://colab.research.google.com/github/Sanket-Kakade/MovieGPT_using_AgenticRAG/blob/main/Agentic_RAG_Sanket.ipynb\" target=\"_parent\"><img src=\"https://colab.research.google.com/assets/colab-badge.svg\" alt=\"Open In Colab\"/></a>"
      ]
    },
    {
      "cell_type": "code",
      "execution_count": null,
      "metadata": {
        "id": "ORmYL9Qbukj5"
      },
      "outputs": [],
      "source": [
        "!pip install groq\n",
        "!pip install chromadb\n",
        "# !pip install langchain==0.2.0\n",
        "!pip install langchain-openai #==0.1.7\n",
        "!pip install -U langchain-community #==0.2.0\n",
        "!pip install langgraph==0.1.1\n",
        "!pip install langchain-chroma==0.1.1\n",
        "!pip install -qU langchain-huggingface"
      ]
    },
    {
      "cell_type": "code",
      "source": [
        "!pip install --upgrade \"httpx<0.28\"\n",
        "!pip install -U sentence-transformers==2.6.0\n",
        "!pip install InstructorEmbedding==1.0.1\n",
        "!pip install -qU langchain-huggingface"
      ],
      "metadata": {
        "id": "vSNBr2kLVHP-"
      },
      "execution_count": null,
      "outputs": []
    },
    {
      "cell_type": "code",
      "source": [
        "!pip install datasets"
      ],
      "metadata": {
        "id": "hkNex38bnJUj"
      },
      "execution_count": null,
      "outputs": []
    },
    {
      "cell_type": "code",
      "source": [
        "from datasets import Dataset, load_dataset"
      ],
      "metadata": {
        "id": "oYVNU1LPTmsQ"
      },
      "execution_count": 47,
      "outputs": []
    },
    {
      "cell_type": "code",
      "source": [
        "dataset = load_dataset(\"BrightData/IMDb-Media\")"
      ],
      "metadata": {
        "id": "DSe6UbCMnTJg"
      },
      "execution_count": 48,
      "outputs": []
    },
    {
      "cell_type": "code",
      "source": [],
      "metadata": {
        "id": "ppfmLddYn_Bx"
      },
      "execution_count": 84,
      "outputs": []
    },
    {
      "cell_type": "code",
      "source": [
        "dataset_pd= dataset['train'].to_pandas()\n",
        "# dataset_pd.drop('Unnamed: 0',axis=1,inplace=True )"
      ],
      "metadata": {
        "id": "qhi1fqWmoyZc"
      },
      "execution_count": 50,
      "outputs": []
    },
    {
      "cell_type": "code",
      "source": [
        "print (dataset_pd.shape)\n",
        "dataset_pd.head(3)"
      ],
      "metadata": {
        "colab": {
          "base_uri": "https://localhost:8080/",
          "height": 384
        },
        "id": "b5DFg61Jqh4z",
        "outputId": "a333965d-187b-4b63-daef-af6e7e5c6bc0"
      },
      "execution_count": 51,
      "outputs": [
        {
          "output_type": "stream",
          "name": "stdout",
          "text": [
            "(249303, 31)\n"
          ]
        },
        {
          "output_type": "execute_result",
          "data": {
            "text/plain": [
              "                                         title  popularity           genres  \\\n",
              "0  Devi Chowdhurani ... Bandit Queen of Bengal         NaN      [\"History\"]   \n",
              "1                                Knit's Island         NaN  [\"Documentary\"]   \n",
              "2                           Fashion Reimagined         NaN  [\"Documentary\"]   \n",
              "\n",
              "                                        presentation  \\\n",
              "0  The untold story of the first woman freedom fi...   \n",
              "1  Somewhere on the internet is a land where comm...   \n",
              "2  Follows Amy Powney, a daughter of environmenta...   \n",
              "\n",
              "                                              credit  \\\n",
              "0  [{\"names\":[{\"link\":\"https://www.imdb.com/name/...   \n",
              "1  [{\"names\":[{\"link\":\"https://www.imdb.com/name/...   \n",
              "2  [{\"names\":[{\"link\":\"https://www.imdb.com/name/...   \n",
              "\n",
              "                                              videos  \\\n",
              "0                                               None   \n",
              "1  [{\"link\":\"https://www.imdb.com/video/vi2827077...   \n",
              "2  [{\"link\":\"https://www.imdb.com/video/vi2554053...   \n",
              "\n",
              "                                              photos  \\\n",
              "0  [{\"link\":\"https://www.imdb.com/title/tt2779479...   \n",
              "1  [{\"link\":\"https://www.imdb.com/title/tt2748974...   \n",
              "2  [{\"link\":\"https://www.imdb.com/title/tt1829298...   \n",
              "\n",
              "                                            top_cast details_release_date  \\\n",
              "0  [{\"actor\":\"Prasenjit Chatterjee\",\"character\":\"...                 None   \n",
              "1                                               None   4/17/2024 (France)   \n",
              "2  [{\"actor\":\"Chloe Marks\",\"character\":\"Self\",\"li...    9/22/2023 (Japan)   \n",
              "\n",
              "     details_countries_of_origin  ...  \\\n",
              "0                          India  ...   \n",
              "1                         France  ...   \n",
              "2  United Kingdom, United States  ...   \n",
              "\n",
              "                                          poster_url imdb_rating_count  \\\n",
              "0  https://www.imdb.com/title/tt27794798/mediavie...                 0   \n",
              "1  https://www.imdb.com/title/tt27489748/mediavie...               116   \n",
              "2  https://www.imdb.com/title/tt18292986/mediavie...               139   \n",
              "\n",
              "                    awards critics_review_count episode_count review_count  \\\n",
              "0                     None                  NaN           NaN          NaN   \n",
              "1  4 wins && 6 nominations                  6.0           NaN          NaN   \n",
              "2  3 wins && 3 nominations                 11.0           NaN          3.0   \n",
              "\n",
              "  review_rating                                    featured_review  \\\n",
              "0           NaN                                               None   \n",
              "1           NaN                                               None   \n",
              "2          10.0  This doc is a MUST watch! Not only does this f...   \n",
              "\n",
              "                                           storyline boxoffice_budget  \n",
              "0  The untold story of the first woman freedom fi...    $2,000,000.00  \n",
              "1  Somewhere on the internet is a land where comm...             None  \n",
              "2  Follows Amy Powney, a daughter of environmenta...             None  \n",
              "\n",
              "[3 rows x 31 columns]"
            ],
            "text/html": [
              "\n",
              "  <div id=\"df-32caa544-8875-449c-8742-1a7fd23d7c9d\" class=\"colab-df-container\">\n",
              "    <div>\n",
              "<style scoped>\n",
              "    .dataframe tbody tr th:only-of-type {\n",
              "        vertical-align: middle;\n",
              "    }\n",
              "\n",
              "    .dataframe tbody tr th {\n",
              "        vertical-align: top;\n",
              "    }\n",
              "\n",
              "    .dataframe thead th {\n",
              "        text-align: right;\n",
              "    }\n",
              "</style>\n",
              "<table border=\"1\" class=\"dataframe\">\n",
              "  <thead>\n",
              "    <tr style=\"text-align: right;\">\n",
              "      <th></th>\n",
              "      <th>title</th>\n",
              "      <th>popularity</th>\n",
              "      <th>genres</th>\n",
              "      <th>presentation</th>\n",
              "      <th>credit</th>\n",
              "      <th>videos</th>\n",
              "      <th>photos</th>\n",
              "      <th>top_cast</th>\n",
              "      <th>details_release_date</th>\n",
              "      <th>details_countries_of_origin</th>\n",
              "      <th>...</th>\n",
              "      <th>poster_url</th>\n",
              "      <th>imdb_rating_count</th>\n",
              "      <th>awards</th>\n",
              "      <th>critics_review_count</th>\n",
              "      <th>episode_count</th>\n",
              "      <th>review_count</th>\n",
              "      <th>review_rating</th>\n",
              "      <th>featured_review</th>\n",
              "      <th>storyline</th>\n",
              "      <th>boxoffice_budget</th>\n",
              "    </tr>\n",
              "  </thead>\n",
              "  <tbody>\n",
              "    <tr>\n",
              "      <th>0</th>\n",
              "      <td>Devi Chowdhurani ... Bandit Queen of Bengal</td>\n",
              "      <td>NaN</td>\n",
              "      <td>[\"History\"]</td>\n",
              "      <td>The untold story of the first woman freedom fi...</td>\n",
              "      <td>[{\"names\":[{\"link\":\"https://www.imdb.com/name/...</td>\n",
              "      <td>None</td>\n",
              "      <td>[{\"link\":\"https://www.imdb.com/title/tt2779479...</td>\n",
              "      <td>[{\"actor\":\"Prasenjit Chatterjee\",\"character\":\"...</td>\n",
              "      <td>None</td>\n",
              "      <td>India</td>\n",
              "      <td>...</td>\n",
              "      <td>https://www.imdb.com/title/tt27794798/mediavie...</td>\n",
              "      <td>0</td>\n",
              "      <td>None</td>\n",
              "      <td>NaN</td>\n",
              "      <td>NaN</td>\n",
              "      <td>NaN</td>\n",
              "      <td>NaN</td>\n",
              "      <td>None</td>\n",
              "      <td>The untold story of the first woman freedom fi...</td>\n",
              "      <td>$2,000,000.00</td>\n",
              "    </tr>\n",
              "    <tr>\n",
              "      <th>1</th>\n",
              "      <td>Knit's Island</td>\n",
              "      <td>NaN</td>\n",
              "      <td>[\"Documentary\"]</td>\n",
              "      <td>Somewhere on the internet is a land where comm...</td>\n",
              "      <td>[{\"names\":[{\"link\":\"https://www.imdb.com/name/...</td>\n",
              "      <td>[{\"link\":\"https://www.imdb.com/video/vi2827077...</td>\n",
              "      <td>[{\"link\":\"https://www.imdb.com/title/tt2748974...</td>\n",
              "      <td>None</td>\n",
              "      <td>4/17/2024 (France)</td>\n",
              "      <td>France</td>\n",
              "      <td>...</td>\n",
              "      <td>https://www.imdb.com/title/tt27489748/mediavie...</td>\n",
              "      <td>116</td>\n",
              "      <td>4 wins &amp;&amp; 6 nominations</td>\n",
              "      <td>6.0</td>\n",
              "      <td>NaN</td>\n",
              "      <td>NaN</td>\n",
              "      <td>NaN</td>\n",
              "      <td>None</td>\n",
              "      <td>Somewhere on the internet is a land where comm...</td>\n",
              "      <td>None</td>\n",
              "    </tr>\n",
              "    <tr>\n",
              "      <th>2</th>\n",
              "      <td>Fashion Reimagined</td>\n",
              "      <td>NaN</td>\n",
              "      <td>[\"Documentary\"]</td>\n",
              "      <td>Follows Amy Powney, a daughter of environmenta...</td>\n",
              "      <td>[{\"names\":[{\"link\":\"https://www.imdb.com/name/...</td>\n",
              "      <td>[{\"link\":\"https://www.imdb.com/video/vi2554053...</td>\n",
              "      <td>[{\"link\":\"https://www.imdb.com/title/tt1829298...</td>\n",
              "      <td>[{\"actor\":\"Chloe Marks\",\"character\":\"Self\",\"li...</td>\n",
              "      <td>9/22/2023 (Japan)</td>\n",
              "      <td>United Kingdom, United States</td>\n",
              "      <td>...</td>\n",
              "      <td>https://www.imdb.com/title/tt18292986/mediavie...</td>\n",
              "      <td>139</td>\n",
              "      <td>3 wins &amp;&amp; 3 nominations</td>\n",
              "      <td>11.0</td>\n",
              "      <td>NaN</td>\n",
              "      <td>3.0</td>\n",
              "      <td>10.0</td>\n",
              "      <td>This doc is a MUST watch! Not only does this f...</td>\n",
              "      <td>Follows Amy Powney, a daughter of environmenta...</td>\n",
              "      <td>None</td>\n",
              "    </tr>\n",
              "  </tbody>\n",
              "</table>\n",
              "<p>3 rows × 31 columns</p>\n",
              "</div>\n",
              "    <div class=\"colab-df-buttons\">\n",
              "\n",
              "  <div class=\"colab-df-container\">\n",
              "    <button class=\"colab-df-convert\" onclick=\"convertToInteractive('df-32caa544-8875-449c-8742-1a7fd23d7c9d')\"\n",
              "            title=\"Convert this dataframe to an interactive table.\"\n",
              "            style=\"display:none;\">\n",
              "\n",
              "  <svg xmlns=\"http://www.w3.org/2000/svg\" height=\"24px\" viewBox=\"0 -960 960 960\">\n",
              "    <path d=\"M120-120v-720h720v720H120Zm60-500h600v-160H180v160Zm220 220h160v-160H400v160Zm0 220h160v-160H400v160ZM180-400h160v-160H180v160Zm440 0h160v-160H620v160ZM180-180h160v-160H180v160Zm440 0h160v-160H620v160Z\"/>\n",
              "  </svg>\n",
              "    </button>\n",
              "\n",
              "  <style>\n",
              "    .colab-df-container {\n",
              "      display:flex;\n",
              "      gap: 12px;\n",
              "    }\n",
              "\n",
              "    .colab-df-convert {\n",
              "      background-color: #E8F0FE;\n",
              "      border: none;\n",
              "      border-radius: 50%;\n",
              "      cursor: pointer;\n",
              "      display: none;\n",
              "      fill: #1967D2;\n",
              "      height: 32px;\n",
              "      padding: 0 0 0 0;\n",
              "      width: 32px;\n",
              "    }\n",
              "\n",
              "    .colab-df-convert:hover {\n",
              "      background-color: #E2EBFA;\n",
              "      box-shadow: 0px 1px 2px rgba(60, 64, 67, 0.3), 0px 1px 3px 1px rgba(60, 64, 67, 0.15);\n",
              "      fill: #174EA6;\n",
              "    }\n",
              "\n",
              "    .colab-df-buttons div {\n",
              "      margin-bottom: 4px;\n",
              "    }\n",
              "\n",
              "    [theme=dark] .colab-df-convert {\n",
              "      background-color: #3B4455;\n",
              "      fill: #D2E3FC;\n",
              "    }\n",
              "\n",
              "    [theme=dark] .colab-df-convert:hover {\n",
              "      background-color: #434B5C;\n",
              "      box-shadow: 0px 1px 3px 1px rgba(0, 0, 0, 0.15);\n",
              "      filter: drop-shadow(0px 1px 2px rgba(0, 0, 0, 0.3));\n",
              "      fill: #FFFFFF;\n",
              "    }\n",
              "  </style>\n",
              "\n",
              "    <script>\n",
              "      const buttonEl =\n",
              "        document.querySelector('#df-32caa544-8875-449c-8742-1a7fd23d7c9d button.colab-df-convert');\n",
              "      buttonEl.style.display =\n",
              "        google.colab.kernel.accessAllowed ? 'block' : 'none';\n",
              "\n",
              "      async function convertToInteractive(key) {\n",
              "        const element = document.querySelector('#df-32caa544-8875-449c-8742-1a7fd23d7c9d');\n",
              "        const dataTable =\n",
              "          await google.colab.kernel.invokeFunction('convertToInteractive',\n",
              "                                                    [key], {});\n",
              "        if (!dataTable) return;\n",
              "\n",
              "        const docLinkHtml = 'Like what you see? Visit the ' +\n",
              "          '<a target=\"_blank\" href=https://colab.research.google.com/notebooks/data_table.ipynb>data table notebook</a>'\n",
              "          + ' to learn more about interactive tables.';\n",
              "        element.innerHTML = '';\n",
              "        dataTable['output_type'] = 'display_data';\n",
              "        await google.colab.output.renderOutput(dataTable, element);\n",
              "        const docLink = document.createElement('div');\n",
              "        docLink.innerHTML = docLinkHtml;\n",
              "        element.appendChild(docLink);\n",
              "      }\n",
              "    </script>\n",
              "  </div>\n",
              "\n",
              "\n",
              "<div id=\"df-7a469f06-4d4f-43c2-abd6-387495bc5697\">\n",
              "  <button class=\"colab-df-quickchart\" onclick=\"quickchart('df-7a469f06-4d4f-43c2-abd6-387495bc5697')\"\n",
              "            title=\"Suggest charts\"\n",
              "            style=\"display:none;\">\n",
              "\n",
              "<svg xmlns=\"http://www.w3.org/2000/svg\" height=\"24px\"viewBox=\"0 0 24 24\"\n",
              "     width=\"24px\">\n",
              "    <g>\n",
              "        <path d=\"M19 3H5c-1.1 0-2 .9-2 2v14c0 1.1.9 2 2 2h14c1.1 0 2-.9 2-2V5c0-1.1-.9-2-2-2zM9 17H7v-7h2v7zm4 0h-2V7h2v10zm4 0h-2v-4h2v4z\"/>\n",
              "    </g>\n",
              "</svg>\n",
              "  </button>\n",
              "\n",
              "<style>\n",
              "  .colab-df-quickchart {\n",
              "      --bg-color: #E8F0FE;\n",
              "      --fill-color: #1967D2;\n",
              "      --hover-bg-color: #E2EBFA;\n",
              "      --hover-fill-color: #174EA6;\n",
              "      --disabled-fill-color: #AAA;\n",
              "      --disabled-bg-color: #DDD;\n",
              "  }\n",
              "\n",
              "  [theme=dark] .colab-df-quickchart {\n",
              "      --bg-color: #3B4455;\n",
              "      --fill-color: #D2E3FC;\n",
              "      --hover-bg-color: #434B5C;\n",
              "      --hover-fill-color: #FFFFFF;\n",
              "      --disabled-bg-color: #3B4455;\n",
              "      --disabled-fill-color: #666;\n",
              "  }\n",
              "\n",
              "  .colab-df-quickchart {\n",
              "    background-color: var(--bg-color);\n",
              "    border: none;\n",
              "    border-radius: 50%;\n",
              "    cursor: pointer;\n",
              "    display: none;\n",
              "    fill: var(--fill-color);\n",
              "    height: 32px;\n",
              "    padding: 0;\n",
              "    width: 32px;\n",
              "  }\n",
              "\n",
              "  .colab-df-quickchart:hover {\n",
              "    background-color: var(--hover-bg-color);\n",
              "    box-shadow: 0 1px 2px rgba(60, 64, 67, 0.3), 0 1px 3px 1px rgba(60, 64, 67, 0.15);\n",
              "    fill: var(--button-hover-fill-color);\n",
              "  }\n",
              "\n",
              "  .colab-df-quickchart-complete:disabled,\n",
              "  .colab-df-quickchart-complete:disabled:hover {\n",
              "    background-color: var(--disabled-bg-color);\n",
              "    fill: var(--disabled-fill-color);\n",
              "    box-shadow: none;\n",
              "  }\n",
              "\n",
              "  .colab-df-spinner {\n",
              "    border: 2px solid var(--fill-color);\n",
              "    border-color: transparent;\n",
              "    border-bottom-color: var(--fill-color);\n",
              "    animation:\n",
              "      spin 1s steps(1) infinite;\n",
              "  }\n",
              "\n",
              "  @keyframes spin {\n",
              "    0% {\n",
              "      border-color: transparent;\n",
              "      border-bottom-color: var(--fill-color);\n",
              "      border-left-color: var(--fill-color);\n",
              "    }\n",
              "    20% {\n",
              "      border-color: transparent;\n",
              "      border-left-color: var(--fill-color);\n",
              "      border-top-color: var(--fill-color);\n",
              "    }\n",
              "    30% {\n",
              "      border-color: transparent;\n",
              "      border-left-color: var(--fill-color);\n",
              "      border-top-color: var(--fill-color);\n",
              "      border-right-color: var(--fill-color);\n",
              "    }\n",
              "    40% {\n",
              "      border-color: transparent;\n",
              "      border-right-color: var(--fill-color);\n",
              "      border-top-color: var(--fill-color);\n",
              "    }\n",
              "    60% {\n",
              "      border-color: transparent;\n",
              "      border-right-color: var(--fill-color);\n",
              "    }\n",
              "    80% {\n",
              "      border-color: transparent;\n",
              "      border-right-color: var(--fill-color);\n",
              "      border-bottom-color: var(--fill-color);\n",
              "    }\n",
              "    90% {\n",
              "      border-color: transparent;\n",
              "      border-bottom-color: var(--fill-color);\n",
              "    }\n",
              "  }\n",
              "</style>\n",
              "\n",
              "  <script>\n",
              "    async function quickchart(key) {\n",
              "      const quickchartButtonEl =\n",
              "        document.querySelector('#' + key + ' button');\n",
              "      quickchartButtonEl.disabled = true;  // To prevent multiple clicks.\n",
              "      quickchartButtonEl.classList.add('colab-df-spinner');\n",
              "      try {\n",
              "        const charts = await google.colab.kernel.invokeFunction(\n",
              "            'suggestCharts', [key], {});\n",
              "      } catch (error) {\n",
              "        console.error('Error during call to suggestCharts:', error);\n",
              "      }\n",
              "      quickchartButtonEl.classList.remove('colab-df-spinner');\n",
              "      quickchartButtonEl.classList.add('colab-df-quickchart-complete');\n",
              "    }\n",
              "    (() => {\n",
              "      let quickchartButtonEl =\n",
              "        document.querySelector('#df-7a469f06-4d4f-43c2-abd6-387495bc5697 button');\n",
              "      quickchartButtonEl.style.display =\n",
              "        google.colab.kernel.accessAllowed ? 'block' : 'none';\n",
              "    })();\n",
              "  </script>\n",
              "</div>\n",
              "\n",
              "    </div>\n",
              "  </div>\n"
            ],
            "application/vnd.google.colaboratory.intrinsic+json": {
              "type": "dataframe",
              "variable_name": "dataset_pd"
            }
          },
          "metadata": {},
          "execution_count": 51
        }
      ]
    },
    {
      "cell_type": "code",
      "source": [
        "from google.colab import userdata\n",
        "from langchain.embeddings import HuggingFaceInstructEmbeddings\n",
        "from langchain_huggingface import HuggingFaceEmbeddings\n",
        "from langchain_openai import OpenAIEmbeddings\n"
      ],
      "metadata": {
        "id": "YY0VDoqHDTdf"
      },
      "execution_count": 52,
      "outputs": []
    },
    {
      "cell_type": "code",
      "source": [
        "openai_api_key= userdata.get('OPENAI_API_KEY')\n",
        "tavily_api_key= userdata.get('TRAVILY_API_KEY')"
      ],
      "metadata": {
        "id": "83jslYomDC9-"
      },
      "execution_count": 53,
      "outputs": []
    },
    {
      "cell_type": "code",
      "source": [
        "embeddings = HuggingFaceEmbeddings(model_name=\"BAAI/bge-large-en-v1.5\")"
      ],
      "metadata": {
        "id": "9m0JVvavDSQz"
      },
      "execution_count": 54,
      "outputs": []
    },
    {
      "cell_type": "code",
      "source": [
        "# file_path= '/content/drive/MyDrive/Sanket-DS/LLM_data/simplewiki-2020-11-01.jsonl.gz'"
      ],
      "metadata": {
        "id": "EI8hZs7nYTcz"
      },
      "execution_count": null,
      "outputs": []
    },
    {
      "cell_type": "code",
      "source": [
        "cols_to_fill= ['title','storyline','genres','presentation','details_countries_of_origin','details_language','imdb_rating','imdb_rating_count','awards']\n",
        "for i in cols_to_fill:\n",
        "  dataset_pd[i].fillna('Null',inplace=True)"
      ],
      "metadata": {
        "colab": {
          "base_uri": "https://localhost:8080/"
        },
        "id": "2pRyN09msLYI",
        "outputId": "8a31a89f-5ce8-4d66-ef56-ca3735a0ef63"
      },
      "execution_count": 55,
      "outputs": [
        {
          "output_type": "stream",
          "name": "stderr",
          "text": [
            "<ipython-input-55-f35a0e9e8202>:3: FutureWarning: A value is trying to be set on a copy of a DataFrame or Series through chained assignment using an inplace method.\n",
            "The behavior will change in pandas 3.0. This inplace method will never work because the intermediate object on which we are setting values always behaves as a copy.\n",
            "\n",
            "For example, when doing 'df[col].method(value, inplace=True)', try using 'df.method({col: value}, inplace=True)' or df[col] = df[col].method(value) instead, to perform the operation inplace on the original object.\n",
            "\n",
            "\n",
            "  dataset_pd[i].fillna('Null',inplace=True)\n",
            "<ipython-input-55-f35a0e9e8202>:3: FutureWarning: Setting an item of incompatible dtype is deprecated and will raise an error in a future version of pandas. Value 'Null' has dtype incompatible with float64, please explicitly cast to a compatible dtype first.\n",
            "  dataset_pd[i].fillna('Null',inplace=True)\n"
          ]
        }
      ]
    },
    {
      "cell_type": "code",
      "source": [
        "import gzip\n",
        "import json\n",
        "from langchain.docstore.document import Document\n",
        "from langchain.text_splitter import RecursiveCharacterTextSplitter\n",
        "docs = []\n",
        "# with gzip.open(file_path, 'rt', encoding='utf8') as fIn:\n",
        "#     for line in fIn:\n",
        "#         data = json.loads(line.strip())\n",
        "#         #Add documents\n",
        "#         docs.append({\n",
        "#                         'metadata': {\n",
        "#                                         'title': data.get('title'),\n",
        "#                                         'article_id': data.get('id')\n",
        "#                         },\n",
        "#                         'data': ' '.join(data.get('paragraphs')[0:3])\n",
        "#         # restrict data to first 3 paragraphs to run later modules faster\n",
        "#         })\n",
        "for i in range(dataset_pd.shape[0]):\n",
        "  docs.append({\n",
        "                        'metadata': {\n",
        "\n",
        "                                        'presentation': dataset_pd.loc[i,'presentation'],\n",
        "                                        'details_countries_of_origin': dataset_pd.loc[i,'details_countries_of_origin']\n",
        "\n",
        "                        },\n",
        "                        'details': str({\n",
        "                            'storyline': dataset_pd.loc[i,'storyline'],\n",
        "                            'title': dataset_pd.loc[i,'title'],\n",
        "                            'genres': dataset_pd.loc[i,'genres'].replace('[\"','\"').replace('\"]','\"'),\n",
        "                            'details_language': dataset_pd.loc[i,'details_language'],\n",
        "                            'imdb_rating': dataset_pd.loc[i,'imdb_rating'],\n",
        "                            'awards': dataset_pd.loc[i,'awards']\n",
        "\n",
        "                        })\n",
        "\n",
        "            })"
      ],
      "metadata": {
        "id": "Hi56HcDJyfPi"
      },
      "execution_count": 56,
      "outputs": []
    },
    {
      "cell_type": "code",
      "source": [],
      "metadata": {
        "id": "Qvc-vnpyfw-x"
      },
      "execution_count": null,
      "outputs": []
    },
    {
      "cell_type": "code",
      "source": [
        "docs= [i for i in docs if i['details'] is not None]"
      ],
      "metadata": {
        "id": "SF6nz9KiFpA2"
      },
      "execution_count": 57,
      "outputs": []
    },
    {
      "cell_type": "code",
      "source": [
        "# # We subset our data to use a subset of wikipedia documents to run things faster\n",
        "docs = [doc for doc in docs if doc['metadata']['details_countries_of_origin']=='India']\n",
        "# Create docs\n",
        "docs = [Document(page_content=doc['details'],\n",
        "                 metadata=doc['metadata']) for doc in docs]\n",
        "\n",
        "\n",
        "# Chunk docs\n",
        "splitter = RecursiveCharacterTextSplitter(chunk_size=1500, chunk_overlap=300)\n",
        "chunked_docs = splitter.split_documents(docs)\n",
        "# chunked_docs[:3]"
      ],
      "metadata": {
        "id": "HoQXhBrpRmCM"
      },
      "execution_count": 58,
      "outputs": []
    },
    {
      "cell_type": "code",
      "source": [
        "from google.colab import drive\n",
        "drive.mount('/content/drive')"
      ],
      "metadata": {
        "colab": {
          "base_uri": "https://localhost:8080/"
        },
        "id": "u0B7ITvaKi_J",
        "outputId": "2cc4ae63-3b4b-4de2-c100-2d7dab8efbd7"
      },
      "execution_count": 59,
      "outputs": [
        {
          "output_type": "stream",
          "name": "stdout",
          "text": [
            "Drive already mounted at /content/drive; to attempt to forcibly remount, call drive.mount(\"/content/drive\", force_remount=True).\n"
          ]
        }
      ]
    },
    {
      "cell_type": "code",
      "source": [
        "db_dir= '/content/drive/MyDrive/Sanket-DS/LLM_data/rag_imdb_IN_db_v2'"
      ],
      "metadata": {
        "id": "fBnxX5RkT_Qu"
      },
      "execution_count": null,
      "outputs": []
    },
    {
      "cell_type": "code",
      "source": [],
      "metadata": {
        "id": "TRth3DNw6Xjx"
      },
      "execution_count": null,
      "outputs": []
    },
    {
      "cell_type": "code",
      "source": [
        "# Enable this code when you want to create a new vector DB. Otherwise use the next cell to refer the existing DB.\n",
        "# %%time\n",
        "# from langchain_chroma import Chroma\n",
        "# # create vector DB of docs and embeddings.\n",
        "# batch_size = 41665  # Set to the maximum allowed batch size for Chroma DB\n",
        "\n",
        "# for i in range(0, len(chunked_docs), batch_size):\n",
        "#   batch = chunked_docs[i:i + batch_size]\n",
        "\n",
        "# chroma_db = Chroma.from_documents(documents=batch,\n",
        "#                                   collection_name='rag_imdb_db',\n",
        "#                                   embedding=embeddings,\n",
        "# # need to set the distance function to cosine else it uses Euclidean by default\n",
        "# # check https://docs.trychroma.com/guides#changing-the-distance-function\n",
        "#                                   collection_metadata={\"hnsw:space\": \"cosine\"},\n",
        "#                                   persist_directory=db_dir)"
      ],
      "metadata": {
        "id": "38D5xSfiWeI-",
        "colab": {
          "base_uri": "https://localhost:8080/"
        },
        "outputId": "b4bcb040-f8eb-477a-9a39-8634c7b9457b"
      },
      "execution_count": null,
      "outputs": [
        {
          "output_type": "stream",
          "name": "stdout",
          "text": [
            "CPU times: user 7min 9s, sys: 4.35 s, total: 7min 14s\n",
            "Wall time: 7min 44s\n"
          ]
        }
      ]
    },
    {
      "cell_type": "code",
      "source": [
        "%%time\n",
        "from langchain_chroma import Chroma\n",
        "\n",
        "chroma_db = Chroma(collection_name='rag_imdb_db',persist_directory=db_dir, embedding_function=embeddings)\n"
      ],
      "metadata": {
        "id": "rIH7kbGbzNxS",
        "colab": {
          "base_uri": "https://localhost:8080/"
        },
        "outputId": "02ed9c6e-47b8-4fa7-df4a-df186b39c74b"
      },
      "execution_count": null,
      "outputs": [
        {
          "output_type": "stream",
          "name": "stdout",
          "text": [
            "CPU times: user 1.19 s, sys: 105 ms, total: 1.29 s\n",
            "Wall time: 5.53 s\n"
          ]
        }
      ]
    },
    {
      "cell_type": "code",
      "source": [
        "similarity_threshold_retriever = chroma_db.as_retriever(search_type=\"similarity_score_threshold\",\n",
        "                       search_kwargs={\"k\": 3,\n",
        "                       \"score_threshold\": 0.2})\n",
        "# We can then test if our retriever is working on some sample queries."
      ],
      "metadata": {
        "id": "MA6QKxO7YfU0"
      },
      "execution_count": null,
      "outputs": []
    },
    {
      "cell_type": "code",
      "source": [
        "from langchain_core.prompts import ChatPromptTemplate\n",
        "from langchain_core.pydantic_v1 import BaseModel, Field\n",
        "from langchain_openai import ChatOpenAI\n",
        "# Data model for LLM output format\n",
        "class GradeDocuments(BaseModel):\n",
        "    \"\"\"Binary score for relevance check on retrieved documents.\"\"\"\n",
        "    binary_score: str = Field(\n",
        "        description=\"Documents are relevant to the question, 'yes' or 'no'\"\n",
        "    )\n",
        "# LLM for grading\n",
        "llm = ChatOpenAI(base_url=\"https://api.groq.com/openai/v1\",\n",
        "  api_key=userdata.get('GROQ_API_KEY'),\n",
        "  model=\"llama3-8b-8192\")\n",
        "\n",
        "structured_llm_grader = llm.with_structured_output(GradeDocuments)\n",
        "# Prompt template for grading\n",
        "SYS_PROMPT = \"\"\"You are an expert grader assessing relevance of a retrieved document to a user question.\n",
        "                Follow these instructions for grading:\n",
        "                  - If the document contains keyword(s) or semantic meaning related to the question, grade it as relevant.\n",
        "                  - Your grade should be either 'yes' or 'no' to indicate whether the document is relevant to the question or not.\"\"\"\n",
        "\n",
        "grade_prompt = ChatPromptTemplate.from_messages(\n",
        "    [\n",
        "        (\"system\", SYS_PROMPT),\n",
        "        (\"human\", \"\"\"Retrieved document:\n",
        "                     {document}\n",
        "                     User question:\n",
        "                     {question}\n",
        "                  \"\"\"),\n",
        "    ]\n",
        ")\n",
        "# Build grader chain\n",
        "doc_grader = (grade_prompt\n",
        "                  |\n",
        "              structured_llm_grader)"
      ],
      "metadata": {
        "id": "HYQ2BrWlYprW"
      },
      "execution_count": 61,
      "outputs": []
    },
    {
      "cell_type": "code",
      "source": [
        "from langchain_core.prompts import ChatPromptTemplate\n",
        "from langchain_openai import ChatOpenAI\n",
        "from langchain_core.runnables import RunnablePassthrough, RunnableLambda\n",
        "from langchain_core.output_parsers import StrOutputParser\n",
        "from operator import itemgetter\n",
        "# Create RAG prompt for response generation\n",
        "prompt = \"\"\"You are an assistant for question-answering tasks, mainly on Indian movies.\n",
        "            Use the following pieces of retrieved context to answer the question.\n",
        "            If no context is present or if you don't know the answer, just say that you don't know the answer.\n",
        "            Do not make up the answer unless it is there in the provided context.\n",
        "            Give a detailed answer and to the point answer with regard to the question.\n",
        "            Question:\n",
        "            {question}\n",
        "            Context:\n",
        "            {context}\n",
        "            Answer:\n",
        "         \"\"\"\n",
        "prompt_template = ChatPromptTemplate.from_template(prompt)\n",
        "# Initialize connection with GPT-4o\n",
        "chatgpt = ChatOpenAI(base_url=\"https://api.groq.com/openai/v1\",\n",
        "  api_key=userdata.get('GROQ_API_KEY'),\n",
        "  model=\"llama3-70b-8192\")\n",
        "# Used for separating context docs with new lines\n",
        "def format_docs(docs):\n",
        "    return \"\\n\\n\".join(doc.page_content for doc in docs)\n",
        "# create QA RAG chain\n",
        "qa_rag_chain = (\n",
        "    {\n",
        "        \"context\": (itemgetter('context')\n",
        "                        |\n",
        "                    RunnableLambda(format_docs)),\n",
        "        \"question\": itemgetter('question')\n",
        "    }\n",
        "      |\n",
        "    prompt_template\n",
        "      |\n",
        "    chatgpt\n",
        "      |\n",
        "    StrOutputParser()\n",
        ")"
      ],
      "metadata": {
        "id": "QI_2MrNbaM_o"
      },
      "execution_count": 63,
      "outputs": []
    },
    {
      "cell_type": "code",
      "source": [
        "# The idea here is to get the user query, retrieve the context documents from the vector database or web search, and then send them as inputs to the RAG prompt mentioned above, which goes into GPT-4o to generate a human-like response. Let’s test out a few queries in our traditional RAG system now.\n",
        "query = \"what is the capital of India?\"\n",
        "query = \"Suggest me good hindi war movies ? \"\n",
        "\n",
        "top3_docs = similarity_threshold_retriever.invoke(query)\n",
        "result = qa_rag_chain.invoke(\n",
        "    {\"context\": top3_docs, \"question\": query}\n",
        ")\n",
        "print(result)"
      ],
      "metadata": {
        "colab": {
          "base_uri": "https://localhost:8080/"
        },
        "id": "4UmcMxG9PfyO",
        "outputId": "cf964286-aadf-4013-a7ed-4bc939c7f438"
      },
      "execution_count": 65,
      "outputs": [
        {
          "output_type": "stream",
          "name": "stdout",
          "text": [
            "Based on the provided context, here are some good Hindi war movies that I can suggest:\n",
            "\n",
            "1. **Kurukshetra** (1999) - This movie is a Hindi war film with a high IMDB rating of 6.9. Although the storyline is not provided, the genres include Action, Drama, History, Musical, and War, making it a great option for those interested in war movies.\n",
            "\n",
            "2. **Raag Desh** (2017) - This period film is based on the historic 1945 Indian National Army Red Fort Trials. With an impressive IMDB rating of 8.1 and one award win, it seems like a gripping and well-made war movie.\n",
            "\n",
            "Please note that I did not suggest \"Sher e Hindustan\" as it is a Bhojpuri movie and not a Hindi movie, and its IMDB rating is relatively low (3.3).\n",
            "\n",
            "I hope you enjoy these movie recommendations!\n"
          ]
        }
      ]
    },
    {
      "cell_type": "code",
      "source": [
        "# Let’s now try a question that is out of context, such that no context documents related to the question are there in the vector database.\n",
        "query = \"who won the champions league in 2024?\"\n",
        "top3_docs = similarity_threshold_retriever.invoke(query)\n",
        "result = qa_rag_chain.invoke(\n",
        "    {\"context\": top3_docs, \"question\": query}\n",
        ")\n",
        "print(result)\n"
      ],
      "metadata": {
        "colab": {
          "base_uri": "https://localhost:8080/"
        },
        "id": "XwA22vpZaS9q",
        "outputId": "0691c661-eb87-4fb3-f971-ee1e35da3c4a"
      },
      "execution_count": null,
      "outputs": [
        {
          "output_type": "stream",
          "name": "stdout",
          "text": [
            "I don't know the answer. The provided context does not mention the Champions League or its winner in 2024. The context appears to be discussing films and sports teams, but there is no relevant information about the Champions League or its winners.\n"
          ]
        }
      ]
    },
    {
      "cell_type": "markdown",
      "source": [
        "Create a Query Rephraser"
      ],
      "metadata": {
        "id": "f_M4srdCboBr"
      }
    },
    {
      "cell_type": "code",
      "source": [
        "# LLM for question rewriting\n",
        "llm = ChatOpenAI(base_url=\"https://api.groq.com/openai/v1\",\n",
        "  api_key=userdata.get('GROQ_API_KEY'),\n",
        "  model=\"llama3-8b-8192\")\n",
        "# Prompt template for rewriting\n",
        "SYS_PROMPT = \"\"\"Act as a question re-writer and perform the following task:\n",
        "                 - Convert the following input question to a better version that is optimized for web search.\n",
        "             \"\"\"\n",
        "re_write_prompt = ChatPromptTemplate.from_messages(\n",
        "    [\n",
        "        (\"system\", SYS_PROMPT),\n",
        "        (\"human\", \"\"\"Here is the initial question:\n",
        "                     {question}\n",
        "                     Formulate an improved question. Your answer should not contain any supportive arguments or additional irrelevant text.\n",
        "                  \"\"\",\n",
        "        ),\n",
        "    ]\n",
        ")\n",
        "\n",
        "# Create rephraser chain\n",
        "question_rewriter = (re_write_prompt\n",
        "                        |\n",
        "                       llm\n",
        "                        |\n",
        "                     StrOutputParser())"
      ],
      "metadata": {
        "id": "zzKq0ktnaZlv"
      },
      "execution_count": 66,
      "outputs": []
    },
    {
      "cell_type": "code",
      "source": [
        "#### Load Web Search Tool\n",
        "from langchain_community.tools.tavily_search import TavilySearchResults\n",
        "from langchain.utilities.tavily_search import TavilySearchAPIWrapper\n",
        "\n",
        "tavilySearchAPIWrapper = TavilySearchAPIWrapper(tavily_api_key=tavily_api_key)\n",
        "tv_search = TavilySearchResults(max_results=3, search_depth='advanced',max_tokens=10000,api_wrapper=tavilySearchAPIWrapper)"
      ],
      "metadata": {
        "id": "lll7nmWhagRA"
      },
      "execution_count": 67,
      "outputs": []
    },
    {
      "cell_type": "code",
      "source": [
        "from typing import List\n",
        "from typing_extensions import TypedDict\n",
        "class GraphState(TypedDict):\n",
        "    \"\"\"\n",
        "    Represents the state of our graph.\n",
        "    Attributes:\n",
        "        question: question\n",
        "        generation: LLM response generation\n",
        "        web_search_needed: flag of whether to add web search - yes or no\n",
        "        documents: list of context documents\n",
        "    \"\"\"\n",
        "    question: str\n",
        "    generation: str\n",
        "    web_search_needed: str\n",
        "    documents: List[str]"
      ],
      "metadata": {
        "id": "RJhHCf06alep"
      },
      "execution_count": 68,
      "outputs": []
    },
    {
      "cell_type": "code",
      "source": [
        "def retrieve_IMDB_data(state):\n",
        "    \"\"\"\n",
        "    Retrieve documents\n",
        "    Args:\n",
        "        state (dict): The current graph state\n",
        "    Returns:\n",
        "        state (dict): New key added to state, documents - that contains retrieved context documents\n",
        "    \"\"\"\n",
        "    print(\"---RETRIEVAL FROM VECTOR DB---\")\n",
        "    question = state[\"question\"]\n",
        "    # Retrieval\n",
        "    documents = similarity_threshold_retriever.invoke(question)\n",
        "    return {\"documents\": documents, \"question\": question}"
      ],
      "metadata": {
        "id": "TPzxjL-FaoXX"
      },
      "execution_count": 85,
      "outputs": []
    },
    {
      "cell_type": "code",
      "source": [
        "def grade_documents(state):\n",
        "    \"\"\"\n",
        "    Determines whether the retrieved documents are relevant to the question\n",
        "    by using an LLM Grader.\n",
        "    If any document are not relevant to question or documents are empty - Web Search needs to be done\n",
        "    If all documents are relevant to question - Web Search is not needed\n",
        "    Helps filtering out irrelevant documents\n",
        "    Args:\n",
        "        state (dict): The current graph state\n",
        "    Returns:\n",
        "        state (dict): Updates documents key with only filtered relevant documents\n",
        "    \"\"\"\n",
        "    print(\"---CHECK DOCUMENT RELEVANCE TO QUESTION---\")\n",
        "    question = state[\"question\"]\n",
        "    documents = state[\"documents\"]\n",
        "    # Score each doc\n",
        "    filtered_docs = []\n",
        "    web_search_needed = \"No\"\n",
        "    if documents:\n",
        "        print(\"---SOME DOCUMENTS RETRIEVED---\")\n",
        "        for d in documents:\n",
        "            score = doc_grader.invoke(\n",
        "                {\"question\": question, \"document\": d.page_content}\n",
        "            )\n",
        "            grade = score.binary_score\n",
        "            if grade == \"yes\":\n",
        "                print(\"---GRADE: DOCUMENT RELEVANT---\")\n",
        "                filtered_docs.append(d)\n",
        "            else:\n",
        "                print(\"---GRADE: DOCUMENT NOT RELEVANT---\")\n",
        "                web_search_needed = \"Yes\"\n",
        "                continue\n",
        "    else:\n",
        "        print(\"---NO DOCUMENTS RETRIEVED---\")\n",
        "        web_search_needed = \"Yes\"\n",
        "    return {\"documents\": filtered_docs, \"question\": question,\n",
        "            \"web_search_needed\": web_search_needed}"
      ],
      "metadata": {
        "id": "eNJpnRFoarST"
      },
      "execution_count": 86,
      "outputs": []
    },
    {
      "cell_type": "code",
      "source": [
        "def rewrite_query(state):\n",
        "    \"\"\"\n",
        "    Rewrite the query to produce a better question.\n",
        "    Args:\n",
        "        state (dict): The current graph state\n",
        "    Returns:\n",
        "        state (dict): Updates question key with a re-phrased or re-written question\n",
        "    \"\"\"\n",
        "    print(\"---REWRITE QUERY---\")\n",
        "    question = state[\"question\"]\n",
        "    documents = state[\"documents\"]\n",
        "    # Re-write question\n",
        "    better_question = question_rewriter.invoke({\"question\": question})\n",
        "    return {\"documents\": documents, \"question\": better_question}"
      ],
      "metadata": {
        "id": "TJnXSUHxatm_"
      },
      "execution_count": 87,
      "outputs": []
    },
    {
      "cell_type": "code",
      "source": [
        "from langchain.schema import Document\n",
        "def web_search(state):\n",
        "    \"\"\"\n",
        "    Web search based on the re-written question.\n",
        "    Args:\n",
        "        state (dict): The current graph state\n",
        "    Returns:\n",
        "        state (dict): Updates documents key with appended web results\n",
        "    \"\"\"\n",
        "    print(\"---WEB SEARCH---\")\n",
        "    question = state[\"question\"]\n",
        "    documents = state[\"documents\"]\n",
        "    # Web search\n",
        "    # print (\"question :\",question)\n",
        "    docs = tv_search.invoke(question)\n",
        "    # print ('docs :',docs)\n",
        "    web_results = \"\\n\\n\".join([d[\"content\"] for d in docs])\n",
        "    web_results = Document(page_content=web_results)\n",
        "    documents.append(web_results)\n",
        "    return {\"documents\": documents, \"question\": question}"
      ],
      "metadata": {
        "id": "gXSIiFNmaxjA"
      },
      "execution_count": 88,
      "outputs": []
    },
    {
      "cell_type": "code",
      "source": [
        "def generate_answer(state):\n",
        "    \"\"\"\n",
        "    Generate answer from context document using LLM\n",
        "    Args:\n",
        "        state (dict): The current graph state\n",
        "    Returns:\n",
        "        state (dict): New key added to state, generation, that contains LLM generation\n",
        "    \"\"\"\n",
        "    print(\"---GENERATE ANSWER---\")\n",
        "    question = state[\"question\"]\n",
        "    documents = state[\"documents\"]\n",
        "    # RAG generation\n",
        "    generation = qa_rag_chain.invoke({\"context\": documents, \"question\": question})\n",
        "    # print (\"question \",question)\n",
        "    # print (\"documents \",documents)\n",
        "    # print (\"generation \",generation)\n",
        "\n",
        "    return {\"documents\": documents, \"question\": question,\n",
        "            \"generation\": generation}"
      ],
      "metadata": {
        "id": "0NwbL8p3azij"
      },
      "execution_count": 89,
      "outputs": []
    },
    {
      "cell_type": "code",
      "source": [
        "def decide_to_generate(state):\n",
        "    \"\"\"\n",
        "    Determines whether to generate an answer, or re-generate a question.\n",
        "    Args:\n",
        "        state (dict): The current graph state\n",
        "    Returns:\n",
        "        str: Binary decision for next node to call\n",
        "    \"\"\"\n",
        "    print(\"---ASSESS GRADED DOCUMENTS---\")\n",
        "    web_search_needed = state[\"web_search_needed\"]\n",
        "    if web_search_needed == \"Yes\":\n",
        "        # All documents have been filtered check_relevance\n",
        "        # We will re-generate a new query\n",
        "        print(\"---DECISION: SOME or ALL DOCUMENTS ARE NOT RELEVANT TO QUESTION, REWRITE QUERY---\")\n",
        "        return \"rewrite_query\"\n",
        "    else:\n",
        "        # We have relevant documents, so generate answer\n",
        "        print(\"---DECISION: GENERATE RESPONSE---\")\n",
        "        return \"generate_answer\""
      ],
      "metadata": {
        "id": "ZWrCiw_Ua13s"
      },
      "execution_count": 90,
      "outputs": []
    },
    {
      "cell_type": "code",
      "source": [
        "from langgraph.graph import END, StateGraph\n",
        "agentic_rag = StateGraph(GraphState)\n",
        "# Define the nodes\n",
        "agentic_rag.add_node(\"retrieve IMDB data\", retrieve_IMDB_data)  # retrieve\n",
        "agentic_rag.add_node(\"grade retrieved documents\", grade_documents)  # grade documents\n",
        "agentic_rag.add_node(\"refine query using LLM\", rewrite_query)  # transform_query\n",
        "agentic_rag.add_node(\"web search\", web_search)  # web search\n",
        "agentic_rag.add_node(\"generate well rounded answer\", generate_answer)  # generate answer\n",
        "# Build graph\n",
        "agentic_rag.set_entry_point(\"retrieve IMDB data\")\n",
        "agentic_rag.add_edge(\"retrieve IMDB data\", \"grade retrieved documents\")\n",
        "agentic_rag.add_conditional_edges(\n",
        "    \"grade retrieved documents\",\n",
        "    decide_to_generate,\n",
        "    {\"refine query using LLM\": \"refine query using LLM\", \"generate well rounded answer\": \"generate well rounded answer\"},\n",
        ")\n",
        "agentic_rag.add_edge(\"refine query using LLM\", \"web search\")\n",
        "agentic_rag.add_edge(\"web search\", \"generate well rounded answer\")\n",
        "agentic_rag.add_edge(\"generate well rounded answer\", END)\n",
        "# Compile\n",
        "agentic_rag = agentic_rag.compile()"
      ],
      "metadata": {
        "id": "LYvVOcroa4hU"
      },
      "execution_count": 97,
      "outputs": []
    },
    {
      "cell_type": "code",
      "source": [
        "from IPython.display import Image, display, Markdown\n",
        "display(Image(agentic_rag.get_graph().draw_mermaid_png()))\n"
      ],
      "metadata": {
        "colab": {
          "base_uri": "https://localhost:8080/",
          "height": 666
        },
        "id": "QcM8Opd6a70c",
        "outputId": "7fc2f282-84de-4705-a748-3ffd6c5e11cd"
      },
      "execution_count": 98,
      "outputs": [
        {
          "output_type": "display_data",
          "data": {
            "image/png": "[encoded data removed]",
            "text/plain": [
              "<IPython.core.display.Image object>"
            ]
          },
          "metadata": {}
        }
      ]
    },
    {
      "cell_type": "code",
      "source": [
        "query = \"Suggest me good and latest hindi war/patriotic movies. \"\n",
        "response = agentic_rag.invoke({\"question\": query})\n",
        "print (response['generation'])"
      ],
      "metadata": {
        "colab": {
          "base_uri": "https://localhost:8080/"
        },
        "id": "XlT8SHdYa8w_",
        "outputId": "d5ebc3ae-a140-43b5-f88d-62b17e892af6"
      },
      "execution_count": 79,
      "outputs": [
        {
          "output_type": "stream",
          "name": "stdout",
          "text": [
            "---RETRIEVAL FROM VECTOR DB---\n",
            "---CHECK DOCUMENT RELEVANCE TO QUESTION---\n",
            "---SOME DOCUMENTS RETRIEVED---\n",
            "---GRADE: DOCUMENT RELEVANT---\n",
            "---GRADE: DOCUMENT NOT RELEVANT---\n",
            "---GRADE: DOCUMENT NOT RELEVANT---\n",
            "---ASSESS GRADED DOCUMENTS---\n",
            "---DECISION: SOME or ALL DOCUMENTS ARE NOT RELEVANT TO QUESTION, REWRITE QUERY---\n",
            "---REWRITE QUERY---\n",
            "---WEB SEARCH---\n",
            "---GENERATE ANSWER---\n",
            "Based on the provided context, I don't see any information about the \"latest\" Hindi patriotic movies. The context provides information about various patriotic movies, but it doesn't specify the latest ones. The dates mentioned in the context are from 1982, 2000, 2004, 2006, and 2013, which are not recent.\n",
            "\n",
            "However, I can provide you with some popular Hindi patriotic movies mentioned in the context:\n",
            "\n",
            "1. Swades (2004)\n",
            "2. Rang De Basanti (2006)\n",
            "3. Gandhi (1982)\n",
            "4. Mission Kashmir (2000)\n",
            "5. Bhaag Milkha Bhaag (2013)\n",
            "\n",
            "If you're looking for the latest Hindi patriotic movies, I would recommend searching online for more recent releases.\n"
          ]
        }
      ]
    },
    {
      "cell_type": "code",
      "source": [
        "query = \"Can you help me with the storyline of the movie 3 idiots?\"\n",
        "\n",
        "response = agentic_rag.invoke({\"question\": query})\n",
        "print (response['generation'])"
      ],
      "metadata": {
        "colab": {
          "base_uri": "https://localhost:8080/"
        },
        "id": "1kD_xm_IbBP1",
        "outputId": "462e590e-105b-4e22-fd38-d5c44c629f38"
      },
      "execution_count": 80,
      "outputs": [
        {
          "output_type": "stream",
          "name": "stdout",
          "text": [
            "---RETRIEVAL FROM VECTOR DB---\n",
            "---CHECK DOCUMENT RELEVANCE TO QUESTION---\n",
            "---SOME DOCUMENTS RETRIEVED---\n",
            "---GRADE: DOCUMENT NOT RELEVANT---\n",
            "---GRADE: DOCUMENT NOT RELEVANT---\n",
            "---GRADE: DOCUMENT NOT RELEVANT---\n",
            "---ASSESS GRADED DOCUMENTS---\n",
            "---DECISION: SOME or ALL DOCUMENTS ARE NOT RELEVANT TO QUESTION, REWRITE QUERY---\n",
            "---REWRITE QUERY---\n",
            "---WEB SEARCH---\n",
            "---GENERATE ANSWER---\n",
            "Based on the provided context, here is a summary of the plot of the Bollywood movie \"3 Idiots\" (2009) directed by Rajkumar Hirani:\n",
            "\n",
            "The movie revolves around the friendships of three friends, Rancho (played by Aamir Khan), Farhan, and Raju, as they navigate through one of the prestigious colleges of the Indian Institutes of Technology. The film is a comedy-drama that explores the challenges and experiences of these three friends as they manage the demands of college life.\n",
            "\n",
            "Unfortunately, the provided context does not offer more details about the plot, so I couldn't provide a more comprehensive summary. If you have any specific questions about the movie, I'd be happy to try and help!\n"
          ]
        }
      ]
    },
    {
      "cell_type": "code",
      "source": [
        "query = \"Can you suggest me some critically acclaimed biography movies in Marathi ?\"\n",
        "\n",
        "response = agentic_rag.invoke({\"question\": query})\n",
        "print (response['generation'])"
      ],
      "metadata": {
        "colab": {
          "base_uri": "https://localhost:8080/"
        },
        "id": "KjR2x0X4V0--",
        "outputId": "fc7ebc10-9805-4f15-aa73-7c72f0ddf80e"
      },
      "execution_count": 81,
      "outputs": [
        {
          "output_type": "stream",
          "name": "stdout",
          "text": [
            "---RETRIEVAL FROM VECTOR DB---\n",
            "---CHECK DOCUMENT RELEVANCE TO QUESTION---\n",
            "---SOME DOCUMENTS RETRIEVED---\n",
            "---GRADE: DOCUMENT RELEVANT---\n",
            "---GRADE: DOCUMENT RELEVANT---\n",
            "---GRADE: DOCUMENT RELEVANT---\n",
            "---ASSESS GRADED DOCUMENTS---\n",
            "---DECISION: GENERATE RESPONSE---\n",
            "---GENERATE ANSWER---\n",
            "Based on the provided context, here are some critically acclaimed biography movies in Marathi that I would suggest:\n",
            "\n",
            "1. **Mahatma Phule** (IMDB rating: 9.4) - A biopic based on the life of social reformer and revolutionary activist Jyotirao Govindrao Phule, who aspired to attain equality for the people and was considered a pioneer of women's education.\n",
            "2. **Satyashodhak** (IMDB rating: 8.6) - A biographical journey depicting the life of Mahatma Jyotirao Phule.\n",
            "3. **Bhai - Vyakti Ki Valli** (IMDB rating: 7.9) - A biopic of Marathi comedian, India's first stand-up comedian P. L. Deshpande, which also explores his personal life.\n",
            "\n",
            "All three movies are highly rated and critically acclaimed, making them great choices for anyone interested in Marathi biography films.\n"
          ]
        }
      ]
    },
    {
      "cell_type": "code",
      "source": [
        "query = \"Give me names of movies which are prt of Golmaal series, the one which has Ajay Devgan in it.\"\n",
        "\n",
        "response = agentic_rag.invoke({\"question\": query})\n",
        "print (response['generation'])"
      ],
      "metadata": {
        "colab": {
          "base_uri": "https://localhost:8080/"
        },
        "id": "cl-mA1bcbDjk",
        "outputId": "154d05d7-7e02-4034-845a-5b4ad413f561"
      },
      "execution_count": 82,
      "outputs": [
        {
          "output_type": "stream",
          "name": "stdout",
          "text": [
            "---RETRIEVAL FROM VECTOR DB---\n",
            "---CHECK DOCUMENT RELEVANCE TO QUESTION---\n",
            "---SOME DOCUMENTS RETRIEVED---\n",
            "---GRADE: DOCUMENT NOT RELEVANT---\n",
            "---GRADE: DOCUMENT NOT RELEVANT---\n",
            "---GRADE: DOCUMENT NOT RELEVANT---\n",
            "---ASSESS GRADED DOCUMENTS---\n",
            "---DECISION: SOME or ALL DOCUMENTS ARE NOT RELEVANT TO QUESTION, REWRITE QUERY---\n",
            "---REWRITE QUERY---\n",
            "---WEB SEARCH---\n",
            "---GENERATE ANSWER---\n",
            "According to the provided context, the movies in the Golmaal series that star Ajay Devgn are:\n",
            "\n",
            "1. Golmaal: Fun Unlimited (2006)\n",
            "2. Golmaal Returns (2008)\n",
            "3. Golmaal 3 (2010)\n",
            "4. Golmaal Again (2017)\n",
            "\n",
            "All of these movies feature Ajay Devgn in a starring role.\n"
          ]
        }
      ]
    },
    {
      "cell_type": "code",
      "source": [
        "query = \"Can you give me all the movies from India nominated for Oscar post 2010.\"\n",
        "\n",
        "response = agentic_rag.invoke({\"question\": query})\n",
        "print (response['generation'])"
      ],
      "metadata": {
        "id": "iTcq_Gw6-5le",
        "colab": {
          "base_uri": "https://localhost:8080/"
        },
        "outputId": "f5872a49-9f16-4367-bb1c-cf370f3b37fa"
      },
      "execution_count": 84,
      "outputs": [
        {
          "output_type": "stream",
          "name": "stdout",
          "text": [
            "---RETRIEVAL FROM VECTOR DB---\n",
            "---CHECK DOCUMENT RELEVANCE TO QUESTION---\n",
            "---SOME DOCUMENTS RETRIEVED---\n",
            "---GRADE: DOCUMENT NOT RELEVANT---\n",
            "---GRADE: DOCUMENT NOT RELEVANT---\n",
            "---GRADE: DOCUMENT NOT RELEVANT---\n",
            "---ASSESS GRADED DOCUMENTS---\n",
            "---DECISION: SOME or ALL DOCUMENTS ARE NOT RELEVANT TO QUESTION, REWRITE QUERY---\n",
            "---REWRITE QUERY---\n",
            "---WEB SEARCH---\n",
            "---GENERATE ANSWER---\n",
            "Based on the provided context, the Indian movies nominated for the Academy Award (Oscar) after 2010 are not explicitly mentioned. The context only mentions three Indian movies that were nominated for Oscars, but they were all before 2010: Mother India (1957), Salaam Bombay (1988), and Lagaan (2001). \n",
            "\n",
            "However, it is mentioned that \"Laapataa Ladies\" is India's official entry for Oscars 2025, which means it is a nomination for the Academy Award, but it is not clear if it has been officially nominated or just selected as India's entry.\n",
            "\n",
            "Therefore, I don't know the answer to the question as the context does not provide a clear list of Indian movies nominated for the Academy Award (Oscar) after 2010.\n"
          ]
        }
      ]
    },
    {
      "cell_type": "code",
      "source": [],
      "metadata": {
        "id": "g6W7-ngXFk3V"
      },
      "execution_count": null,
      "outputs": []
    }
  ]
}